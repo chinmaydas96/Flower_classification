{
 "cells": [
  {
   "cell_type": "code",
   "execution_count": 1,
   "metadata": {},
   "outputs": [],
   "source": [
    "from collections import OrderedDict\n",
    "\n",
    "import torch\n",
    "from torch import nn\n",
    "from torchvision import models\n",
    "\n",
    "#from test_model_pytorch_facebook_challenge import publish_evaluated_model, calc_accuracy\n"
   ]
  },
  {
   "cell_type": "code",
   "execution_count": null,
   "metadata": {},
   "outputs": [],
   "source": [
    "# Load your model to this variable\n",
    "import torch\n",
    "from torch import nn\n",
    "from torchvision import models\n",
    "\n",
    "def load_checkpoint(checkpoint_path):\n",
    "    checkpoint = torch.load(checkpoint_path,map_location=\"cpu\")\n",
    "\n",
    "    model = models.densenet121(pretrained=False)\n",
    "    for param in model.parameters():\n",
    "        param.requires_grad = False\n",
    "\n",
    "    # Put the classifier on the pretrained network\n",
    "    from collections import OrderedDict\n",
    "    structure = 'densenet121'\n",
    "    classifier = nn.Sequential(OrderedDict([\n",
    "        ('inputs', nn.Linear(1024, 524)),\n",
    "        ('relu1', nn.ReLU()),\n",
    "        ('hidden_layer1',nn.Linear(524,102)),\n",
    "        ('output', nn.LogSoftmax(dim=1))\n",
    "                      ]))\n",
    "\n",
    "\n",
    "    model.classifier = classifier\n",
    "\n",
    "    #model.load_state_dict(checkpoint['state_dict'])\n",
    "    #model.load_state_dict(checkpoint)\n",
    "    #model.load_state_dict(checkpoint['state_dict'], strict=False)\n",
    "    model.load_state_dict(checkpoint, strict=False)\n",
    "\n",
    "    return model\n",
    "\n",
    "model = load_checkpoint('/home/workspace/densenet_optimum.pth')\n",
    "model\n",
    "   \n",
    "# If you used something other than 224x224 cropped images, set the correct size here\n",
    "image_size = 224\n",
    "# Values you used for normalizing the images. Default here are for \n",
    "# pretrained models from torchvision.\n",
    "norm_mean = [0.485, 0.456, 0.406]\n",
    "norm_std = [0.229, 0.224, 0.225]"
   ]
  }
 ],
 "metadata": {
  "kernelspec": {
   "display_name": "Python 3",
   "language": "python",
   "name": "python3"
  },
  "language_info": {
   "codemirror_mode": {
    "name": "ipython",
    "version": 3
   },
   "file_extension": ".py",
   "mimetype": "text/x-python",
   "name": "python",
   "nbconvert_exporter": "python",
   "pygments_lexer": "ipython3",
   "version": "3.6.7"
  }
 },
 "nbformat": 4,
 "nbformat_minor": 2
}
